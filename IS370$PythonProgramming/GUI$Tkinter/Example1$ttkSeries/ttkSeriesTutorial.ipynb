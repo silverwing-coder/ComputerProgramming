{
 "cells": [
  {
   "cell_type": "code",
   "execution_count": 2,
   "metadata": {},
   "outputs": [
    {
     "name": "stdout",
     "output_type": "stream",
     "text": [
      "10\n"
     ]
    }
   ],
   "source": [
    "import tkinter as tk\n",
    "from tkinter import ttk\n",
    "\n",
    "class Window:\n",
    "    def __init__(self, master) -> None:\n",
    "        cols = ('email', 'salary')\n",
    "        treeView = ttk.Treeview(master, columns=cols, height=20)\n",
    "        treeView.pack(padx=5, pady=5)\n",
    "        treeView.heading('#0', text='Name')\n",
    "        \n",
    "    # def return_number() -> int:\n",
    "    #     return 10\n",
    "        \n",
    "# print(Window.return_number())\n",
    "        \n",
    "root = tk.Tk()\n",
    "window = Window(root)\n",
    "root.mainloop()"
   ]
  },
  {
   "cell_type": "code",
   "execution_count": null,
   "metadata": {},
   "outputs": [],
   "source": []
  }
 ],
 "metadata": {
  "kernelspec": {
   "display_name": "Python 3",
   "language": "python",
   "name": "python3"
  },
  "language_info": {
   "codemirror_mode": {
    "name": "ipython",
    "version": 3
   },
   "file_extension": ".py",
   "mimetype": "text/x-python",
   "name": "python",
   "nbconvert_exporter": "python",
   "pygments_lexer": "ipython3",
   "version": "3.10.5"
  }
 },
 "nbformat": 4,
 "nbformat_minor": 2
}
